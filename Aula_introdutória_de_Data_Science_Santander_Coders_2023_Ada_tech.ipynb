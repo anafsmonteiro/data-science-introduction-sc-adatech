{
  "nbformat": 4,
  "nbformat_minor": 0,
  "metadata": {
    "colab": {
      "provenance": [],
      "authorship_tag": "ABX9TyNrjTSnl+fl811PRmAYnB42",
      "include_colab_link": true
    },
    "kernelspec": {
      "name": "python3",
      "display_name": "Python 3"
    },
    "language_info": {
      "name": "python"
    }
  },
  "cells": [
    {
      "cell_type": "markdown",
      "metadata": {
        "id": "view-in-github",
        "colab_type": "text"
      },
      "source": [
        "<a href=\"https://colab.research.google.com/github/anafsmonteiro/data-science-introduction-sc-adatech/blob/main/Aula_introdut%C3%B3ria_de_Data_Science_Santander_Coders_2023_Ada_tech.ipynb\" target=\"_parent\"><img src=\"https://colab.research.google.com/assets/colab-badge.svg\" alt=\"Open In Colab\"/></a>"
      ]
    },
    {
      "cell_type": "markdown",
      "source": [
        "Aula introdutória de Data Science - Santander Coders 2023 - Ada tech"
      ],
      "metadata": {
        "id": "Q1oBqWMvtRTL"
      }
    },
    {
      "cell_type": "markdown",
      "source": [
        "Questão 14: Peça para o usuário digitar uma velocidade inicial (em m/s), uma posição inicial (em m) e um instante de tempo (em s) e imprima a posição de um projétil nesse instante de tempo. Use a fórmula matemática: y(t) = y(0) + v(0)t + (g(t**2)/2) Onde, g é a aceleração da gravidade (-10m/s²), y(t) é a posição final, y(0) é a posição inicial, v(0) é a velocidade inicial e t é o instante de tempo."
      ],
      "metadata": {
        "id": "XS0CF943tf41"
      }
    },
    {
      "cell_type": "code",
      "source": [
        "# pedir para o usuário digitar a velocidade inicial, a posição inicial e o instante de tempo\n",
        "v0 = float(input(\"Digite a velocidade inicial do projétil (em m/s): \"))\n",
        "y0 = float(input(\"Digite a posição inicial do projétil (em m): \"))\n",
        "t = float(input(\"Digite o instante de tempo que deseja calcular a posição (em s): \"))\n",
        "\n",
        "# calcular a posição final do projétil usando a fórmula matemática\n",
        "y = y0 + v0*t + (-10*(t**2))/2\n",
        "\n",
        "# imprimir a posição final do projétil\n",
        "print(\"A posição final do projétil no instante de tempo\", t, \"s é\", y, \"m.\")"
      ],
      "metadata": {
        "id": "Fdo1ygPztrlf"
      },
      "execution_count": null,
      "outputs": []
    }
  ]
}